{
 "cells": [
  {
   "cell_type": "markdown",
   "id": "2ad82325",
   "metadata": {},
   "source": [
    "Problem 1: PDST (Distance Matrix)"
   ]
  },
  {
   "cell_type": "code",
   "execution_count": 13,
   "id": "e0886584",
   "metadata": {},
   "outputs": [
    {
     "name": "stdout",
     "output_type": "stream",
     "text": [
      "[0.0, 0.3275, 0.57875, 0.65, 0.5925, 0.50625, 0.4925, 0.58875, 0.3425, 0.645]\n",
      "[0.3275, 0.0, 0.47125, 0.56375, 0.5, 0.3225, 0.3025, 0.48875, 0.50375, 0.57125]\n",
      "[0.57875, 0.47125, 0.0, 0.34125, 0.60125, 0.54625, 0.30625, 0.60125, 0.5925, 0.33125]\n",
      "[0.65, 0.56375, 0.34125, 0.0, 0.64375, 0.6125, 0.45375, 0.65625, 0.66, 0.51]\n",
      "[0.5925, 0.5, 0.60125, 0.64375, 0.0, 0.34375, 0.58, 0.50625, 0.66375, 0.6425]\n",
      "[0.50625, 0.3225, 0.54625, 0.6125, 0.34375, 0.0, 0.4775, 0.33, 0.62375, 0.60125]\n",
      "[0.4925, 0.3025, 0.30625, 0.45375, 0.58, 0.4775, 0.0, 0.58125, 0.56, 0.48]\n",
      "[0.58875, 0.48875, 0.60125, 0.65625, 0.50625, 0.33, 0.58125, 0.0, 0.665, 0.64]\n",
      "[0.3425, 0.50375, 0.5925, 0.66, 0.66375, 0.62375, 0.56, 0.665, 0.0, 0.67]\n",
      "[0.645, 0.57125, 0.33125, 0.51, 0.6425, 0.60125, 0.48, 0.64, 0.67, 0.0]\n"
     ]
    }
   ],
   "source": [
    "with open('distance_matrix.txt', 'r') as items:\n",
    "    li = items.read().replace('\\n', '').split('>Rosalind_')\n",
    "    li = [k[4:] for k in li if k]\n",
    "    res = []\n",
    "    checked ={}\n",
    "    #compare each item to each other one ONCE\n",
    "    for i in range(len(li)): #no need to compare last one to itself\n",
    "        temp = [] #creating each row\n",
    "        for j in range(len(li)):\n",
    "            if i == j:\n",
    "                temp.append(0/2)\n",
    "            else:\n",
    "                if(i,j) not in checked or (j,i) not in checked:\n",
    "                    dis = 0\n",
    "                    for char in range(len(li[i])):\n",
    "                        if li[i][char] != li[j][char]:\n",
    "                            dis +=1\n",
    "                    dis = dis/len(li[i])\n",
    "                    temp.append(dis)\n",
    "                    checked[(i,j)]= dis\n",
    "                    checked[(j,i)]= dis\n",
    "                else:\n",
    "                    temp.append(checked[(i,j)])\n",
    "        res.append(temp)\n",
    "\n",
    "for row in range(len(res)):\n",
    "    print(res[row])\n"
   ]
  },
  {
   "cell_type": "markdown",
   "id": "d9cc29fe",
   "metadata": {},
   "source": [
    "Problem 2: RSTR (Random Strings)"
   ]
  },
  {
   "cell_type": "code",
   "execution_count": 21,
   "id": "24076522",
   "metadata": {},
   "outputs": [
    {
     "name": "stdout",
     "output_type": "stream",
     "text": [
      "1.1502561020780984e-06\n",
      "0.10336916433666943\n"
     ]
    }
   ],
   "source": [
    "n = 94858\n",
    "gc = .426033\n",
    "s = \"CATGACAACA\"\n",
    "size = len(s)\n",
    "\n",
    "\n",
    "#find the probability of my specific s string being created\n",
    "p_g = gc * .5\n",
    "p_a = (1-gc) * .5\n",
    "prob1 = 1\n",
    "for gc in s:\n",
    "    if gc == 'A' or gc == 'T':\n",
    "        prob1 *= p_a\n",
    "    if gc == 'G' or gc =='C':\n",
    "        prob1 *= p_g\n",
    "print(prob1)\n",
    "\n",
    "#binomial probability: success in 0 trials = (prob1)^0 * (1-prob1)^n\n",
    "#we want 1-success in 0 trials\n",
    "print(1-((1-prob1)**n))\n"
   ]
  },
  {
   "cell_type": "markdown",
   "id": "c1fb8e5d",
   "metadata": {},
   "source": [
    "Problem 3: LCSQ (Shared Spliced Motif)"
   ]
  },
  {
   "cell_type": "code",
   "execution_count": 42,
   "id": "5904bb33",
   "metadata": {},
   "outputs": [
    {
     "name": "stdout",
     "output_type": "stream",
     "text": [
      "TCCGTCAAGACATCCGTTCTTTTACTCCGAGTATTTTGTCCAAGCGAGTGAAAAAATAAGACATTTGATCCGACTAAAGTTGCCTCACCCCACATACGGAAAAGGGTTTCATCATTAGAGAATCTGCGGCTAGAAGACTCGAGTTAGATTTTTACATGTGTGACACTGAGGTTCTCGTTAATCCCCGGCAGTAAAACAAATGCGTCTTTGTGGTTTAGAACCAAGGGGGAACGTAGAATTTAACCATGCGGCCGGTGCGTGCCGTTATGATGGGGTCTTTCGAGTATGTGCGCCCCAACACAAAGGCTCGGCGGGTCTTTTTGCGGTCTAGATTTTGCGGGGGTGTATGACTTTGTTTTAAAGTGATGATTGCAGACCCTCGGGGGGCCTCTTGAACTCGGGGGGAGTAAGCCTTGGCATCGCGGGTGAGAGTAAATACACGAGTGGGTACGTCGCTTGTGCCCCTTTTCAGACGCTGGGTCCCGTCAGAACATAGCTTGAAGGCCAGTAGCGTTCGAACGCGATGAGATATAAATCGCCGGGGTGGCGTACCATTTTGCCTTTAAA\n"
     ]
    }
   ],
   "source": [
    "\n",
    "with open('splice.txt', 'r') as splice:\n",
    "    splice = splice.read().replace('\\n', '').split('>Rosalind_')\n",
    "    splice = [item[4:] for item in splice if item]\n",
    "    s1 = splice[0]\n",
    "    s2 = splice[1]\n",
    "    arr = [[\"X\" for _ in range (len(s2) + 1)] for _ in range (len(s1) + 1)]\n",
    "\n",
    "    def LCS(s1, s2, n, m):\n",
    "        if(n >= len(s1)) or (m>=len(s2)):\n",
    "            return \"\"\n",
    "        if arr[n][m] != \"X\":\n",
    "            return arr[n][m]\n",
    "        if(s1[n] == s2[m]):\n",
    "            arr[n][m] =  s1[n] + LCS(s1, s2, n+1, m+1)\n",
    "        else:\n",
    "            p1 = LCS(s1, s2, n+1, m)\n",
    "            p2 = LCS(s1, s2, n, m+1)\n",
    "            arr[n][m] =  max(p1, p2, key=len)\n",
    "        return arr[n][m]\n",
    "\n",
    "    print(LCS(s1, s2, 0, 0))"
   ]
  },
  {
   "cell_type": "markdown",
   "id": "5f382379",
   "metadata": {},
   "source": [
    "Problem 4: MOTZ (motzkin numbers)"
   ]
  },
  {
   "cell_type": "code",
   "execution_count": 8,
   "id": "4cd1abde",
   "metadata": {},
   "outputs": [
    {
     "name": "stdout",
     "output_type": "stream",
     "text": [
      "20638\n"
     ]
    }
   ],
   "source": [
    "\n",
    "codons = {\"A\": \"U\", \"U\": \"A\", \"C\": \"G\", \"G\": \"C\"}\n",
    "matches = {}\n",
    "\n",
    "def motz(seq):\n",
    "    if len(seq) <= 1:\n",
    "        return 1\n",
    "    if seq in matches:\n",
    "        return matches[seq]\n",
    "    else:\n",
    "        matches[seq] = motz(seq[1:])\n",
    "        for i in range(1, len(seq)):\n",
    "            if seq[i] == codons[seq[0]]:\n",
    "                matches[seq] += motz(seq[1:i]) * motz(seq[i+1:])\n",
    "        return matches[seq]\n",
    "\n",
    "\n",
    "print(motz(\"AGUUCGCUGACACUAACGUGUGCUAGUUGGAUGACGCUUUUUGGUAUCCAGUUGGUCAUCACAGGCAGCCCUCUAACCCCAUAUCUGCACUUGCUUUGGCCACAACUUCGCAAAAUUAUCCGAUGAGAUGAGUACUUGCGCUUCAUCGAAUCCCGGGGCGAUACGCGGGAUACAAGCGGCAUCAACACAAAUCACCCAGCGUCGAACGGCAGUGUUAGGACGCGCGGACAAACCCGGCCGCGAAGUGAGUUGUGUUCUGGGCGAAAUAUUAAGGAGA\") %1000000)\n"
   ]
  },
  {
   "cell_type": "markdown",
   "id": "eed6fe6e",
   "metadata": {},
   "source": [
    "Problem 5: ASPC (Alternative Splicing)"
   ]
  },
  {
   "cell_type": "code",
   "execution_count": 11,
   "id": "6be28d16",
   "metadata": {},
   "outputs": [
    {
     "name": "stdout",
     "output_type": "stream",
     "text": [
      "315592\n"
     ]
    }
   ],
   "source": [
    "import math \n",
    "tot = 0\n",
    "n = 1979\n",
    "m = 727\n",
    "for i in range(m,n+1):\n",
    "    tot += math.comb(n,i)\n",
    "\n",
    "print(tot % 1000000)"
   ]
  }
 ],
 "metadata": {
  "kernelspec": {
   "display_name": "bioenv",
   "language": "python",
   "name": "python3"
  },
  "language_info": {
   "codemirror_mode": {
    "name": "ipython",
    "version": 3
   },
   "file_extension": ".py",
   "mimetype": "text/x-python",
   "name": "python",
   "nbconvert_exporter": "python",
   "pygments_lexer": "ipython3",
   "version": "3.12.3"
  }
 },
 "nbformat": 4,
 "nbformat_minor": 5
}
