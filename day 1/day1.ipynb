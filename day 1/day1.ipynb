{
 "cells": [
  {
   "cell_type": "markdown",
   "id": "c42f9327",
   "metadata": {},
   "source": [
    "Problem 1: GC (Computing GC ratio)"
   ]
  },
  {
   "cell_type": "code",
   "execution_count": 54,
   "id": "5c553b83",
   "metadata": {},
   "outputs": [
    {
     "name": "stdout",
     "output_type": "stream",
     "text": [
      "('Rosalind_1008', 51.17521367521367)\n"
     ]
    }
   ],
   "source": [
    "f = open(\"gc_file.txt\", 'r')\n",
    "line = f.readline().rstrip()\n",
    "maxID, maxR = '', 0\n",
    "\n",
    "\n",
    "while line:\n",
    "    seq_name = line[1:]\n",
    "    line = f.readline().rstrip()\n",
    "    seq = ''\n",
    "    while not line.startswith('>') and line:\n",
    "        seq = seq + line\n",
    "        line = f.readline().rstrip()\n",
    "        thisR = (seq.count('C') + seq.count('G'))/float(len(seq))\n",
    "    if thisR > maxR:\n",
    "        maxR = thisR\n",
    "        maxID = seq_name\n",
    "\n",
    "print((maxID, maxR * 100))\n",
    "f.close()"
   ]
  },
  {
   "cell_type": "markdown",
   "id": "beff5316",
   "metadata": {},
   "source": [
    "Problem 2: HAMM (point mutations)"
   ]
  },
  {
   "cell_type": "code",
   "execution_count": 55,
   "id": "2ba35297",
   "metadata": {},
   "outputs": [
    {
     "name": "stdout",
     "output_type": "stream",
     "text": [
      "7\n"
     ]
    }
   ],
   "source": [
    "f = open(\"hamm_file.txt\", 'r')\n",
    "content = f.read()\n",
    "first = content[:content.index('\\n')]\n",
    "second = content[content.index('\\n')+ 1 :]\n",
    "amount = 0\n",
    "\n",
    "for i in range(len(first)):\n",
    "    if first[i] != second[i]:\n",
    "        amount = amount + 1\n",
    "\n",
    "print(amount)\n"
   ]
  },
  {
   "cell_type": "markdown",
   "id": "1dbae8cf",
   "metadata": {},
   "source": [
    "Problem 3: IPRB (mendel's law)"
   ]
  },
  {
   "cell_type": "code",
   "execution_count": 56,
   "id": "2543d021",
   "metadata": {},
   "outputs": [
    {
     "name": "stdout",
     "output_type": "stream",
     "text": [
      "0.7833333333333333\n"
     ]
    }
   ],
   "source": [
    "i = 2\n",
    "j = 2\n",
    "k = 2\n",
    "\n",
    "pos = 0\n",
    "#ii, ij, and ik interactions always lead to dominant trait\n",
    "pos += ((i*(i-1)/2) + (i*j) + (i*k))\n",
    "#jj is 75%, jk is 50%\n",
    "pos += ((j*(j-1) * .75 * .5) + (j*k * .5))\n",
    "#total is (i+j+k) C 2\n",
    "\n",
    "tot = (i+j+k)* (i+j+k-1) * 0.5\n",
    "\n",
    "print(pos/tot)\n"
   ]
  },
  {
   "cell_type": "markdown",
   "id": "3867819e",
   "metadata": {},
   "source": [
    "Problem 4: PROT (Translating RNA )"
   ]
  },
  {
   "cell_type": "code",
   "execution_count": 59,
   "id": "219915ef",
   "metadata": {},
   "outputs": [
    {
     "name": "stdout",
     "output_type": "stream",
     "text": [
      "MGMERVLDEGLIAVYVSLELGSLLAVSFLKPKYEYFSLRVVRSSPTPGVSFRPVLVLRSRAGYLALVVAQMCQGVRTDLVYHPCWMSPADKRNLRGQSTGINRVKPLDKNNYVATGRSEAPPWFNRWVVLECEITFKRRNITLGCLERVGQKLLLLDLPIVRPKVTFFVEPSGDIGLGVRQRSNRQNVDIIERSVRTLRSNLTVDTWISEDCNQACEWLTAKRIDTREAYQTRSSRQYSSRSVRIVWQSLTPWPWALEMLAARPLQCVFILLNTTPLFSFSVAWVIAARVGTGRCRKYIFGYIAREKPMALLASVRYRLTRLITGAFEDSCQPTTMLCSLIRGAYKAGDVLLSSLEPRQLYSFLEYGETVHVGCQGGALLTGVPQFFLSTRRMILLYRDFPGSKIPSVLGEMSSPMLETRLINFVETCHFEWISRTATASVRRYHPISNGRRPAYSRELSLVSRRLHISDFSPDAAFLSRGRGDWTQNCITEQAQVSSRGLRSLQRPIPHSKSAGSRNGTGPLQLSKAFSAFISRPYRRRAFIIPLFVLNLATAYTVHWSGELEFFASGEEDIPPVTNVPHAITASFIDRSRPSCVRPKCPFSAALSSQLRPGSTGRTADRVVGHKRNVLYEIFPHEHYIDFLYWESPKEVRLSVNATVIYIRVCFTRPRSCRFHSQSQRLSSTVNIASASIMRNNPDHVIPSPCYMATHFRHMPWGLRGMIRAKSTHNCHYLNGVIIAPTTLLVKLSSIAGRSAVMLPASPLARATAEEIDAHPRASQPTLGGRAQRFRRSALPFPRLSSLTCHRLSGEAGEHLGVSPRSVIGENTKEGPAPEFNYLGRSRSQAGSCGRSFAVSQLGPTISPSTVTISVSSYCLQTGGSNQQADEARQHLHMLVVSYLSRTNPYFSREPLIICMSKRLKRTKTTPNPRGVDYVNPGSTRRCLKSLRPEQKISCMRLHNASYEPLCETAILVNAAICVRLCLAQIMDLWEIKTFRRYQFLLPLIYSRTATRLIDVAFPMVPLPQLMHIGAQPVASRTTLTSSKKFTGGHHHVRWLPQRLRRKGLRSVRKALGRAQSSALQIRASAFPIDCINVSRKVSVNPYHPMLVNFLMPEHLHDKRYRIATFLRRTVKCVVCLHHRASISSQCTTGLPIRVTRTSSVGVRPAYANLNPLMFIRPPLVHEALFLACIIRSSRAGRSPNPSSYIRRNRKQEVPKTRYAPVLIFTLQYKCDNLSGRNNGSLSPLLSRLQIFEMDSAYRLSHILKLELCWFVDNKTLNFIGPFHLYYCILDRSRLKTCRLGQGLEGTILFAALRHAPRFACLRMPPEVTLLKFPERNSRHPCELIPDCYSSFMPAWRFQWRPSRVPCLLWLSKPDERVWSLLDLPSDRALWNSLQIVWYSLHIVAHHYKSHGDSLAPACPLPCASNTGHLTYPLISVTDNVHAHLYSLDLPETLGMDPFDCCPLPPSPSQIGDYRRTGGLDGTRAGCYSIPRVVFACHTNVSAQSIDLNYFRVPAPSGAYKTLSNELLPLSPNADCQWTTRAATVYRTKPPYLGLILARKIDWELPSSIRHGHRTTRRRFKGFVDQSMSGRGRCRGGLLAVGQLHSPNGTTHHRVRSECGSGCGLPNVPFDPTQLARIRRALGVTIQLRVSPGSKFAHDHFPGCAQDSLWVMHLSSIAQALNNVQRHREEGYSKSGISRDFINSLTSALVNESCTPFLGRMENVYLLSSISLNLILGVALKTRSLTWISSMGNSNSIITYHGISQLHIKSDWWLNQVRRHGVLDLRPMVLPPKIRHSVILCTVRTNDFLRRTPASTLCGDELLNDTNAWSLELEFPKIKSRGCVHNLETWIGSIVNRSPEPHSITTVSRHSREQNPRYCLGPSVLPVAQISSRTPLWNAALLRVLSTPRHFWLKVAMTNQVVSEHLDGRIVPASISGRSCPSRESQVSPDPVKPYSRAYGTVDMNRRRTSYALATDGKLRQQTTRYLRCPIICCTPWVYTVKSGPILLAFSRDRPTVYMTAASRVVACSTRSSSCTRLTYVLKSLQGFKTNRRSGTLHLRLGFLISARSNPGAGRSLALAGTRKRTESKSVTDIASRIKSEGTSGNNENGLDQLTLLLGLLSIRAIDLPRTQYGPLQSQNTTDSLPTPGCHSTIRSNSQTYACSQPAALDIEYNRYSLIFGFNLSILRVTSRSGAPSATRLRTQPSSGQFYDDERPSRPSSERAASCDRGSAEIFPGPSGRHPSDTHTGWRAEERRYHKCRCRLDISIGQPGSRRATTGAAVSAQEANTAVAGGAVGFAWGVHIDLVPMVQRKLCTGSQSSVSTGQQRQFRTKAWPRHNAPPSLGDDRLSVKITLRKCPTAAVGHFLYVCRWRPAHSRAVFLFPVYTGRRHVGTRRRHGVVIFRLKLTNRALVFPLLFGPKVPSATPQSDVGLASQGRWLLILCSNLLNSGDISVKGFVDAGALCTNYSFYSAIDTTSVEAHNATVVEDNTTQSRGYWDSVFVGTSSTRGAKSCNLKGCQHFACRCIPLGPLRILICGDEQGTQQLTAHLNHTREPQILGTKFLTVPVDLCEVPTGLHGSNSRNRLAFKGVRNPCPNPGAMRCDSVTIRPWFVRFAPTGLIFGISRTRLPIHLKMALDTLRQRFSQLSITRVARNHHRKVKNPTGRKLRICIICDKAKSGAVGVSSTMAPKGRLTFRGRGRPPTTDTPCCSFTDAHLGRDISDKLNHPSNHLIKTRARGGKQSYIKSAISIIAFNYGTRSLPNNTYMVHLSEWRSHGPVSTARLSQSRKEAVYGIALPLHSAGTTFISAGRASEHHPTVIRAAGNRLHPFCHRHASLTLTFRKTDLVLFSHPRLRRPACTVTPCKIATWVVEFLARHLQGGNGQSAEKSVPPPLTSYWPTPELINLFVARRSASRTHWLVSATCKRRIPGSLHFRVIGYGIALRFHGMIIRQYLEKFYDRVSLGQQPKLSLRLFLGSK\n"
     ]
    }
   ],
   "source": [
    "# codontable source @David-boo on github\n",
    "\n",
    "codontable = {\n",
    "'UUU': 'F', 'CUU': 'L', 'AUU': 'I', 'GUU': 'V',\n",
    "'UUC': 'F', 'CUC': 'L', 'AUC': 'I', 'GUC': 'V',\n",
    "'UUA': 'L', 'CUA': 'L', 'AUA': 'I', 'GUA': 'V',\n",
    "'UUG': 'L', 'CUG': 'L', 'AUG': 'M', 'GUG': 'V',\n",
    "'UCU': 'S', 'CCU': 'P', 'ACU': 'T', 'GCU': 'A',\n",
    "'UCC': 'S', 'CCC': 'P', 'ACC': 'T', 'GCC': 'A',\n",
    "'UCA': 'S', 'CCA': 'P', 'ACA': 'T', 'GCA': 'A',\n",
    "'UCG': 'S', 'CCG': 'P', 'ACG': 'T', 'GCG': 'A',\n",
    "'UAU': 'Y', 'CAU': 'H', 'AAU': 'N', 'GAU': 'D',\n",
    "'UAC': 'Y', 'CAC': 'H', 'AAC': 'N', 'GAC': 'D',\n",
    "'UAA': 'Stop', 'CAA': 'Q', 'AAA': 'K', 'GAA': 'E',\n",
    "'UAG': 'Stop', 'CAG': 'Q', 'AAG': 'K', 'GAG': 'E',\n",
    "'UGU': 'C', 'CGU': 'R', 'AGU': 'S', 'GGU': 'G',\n",
    "'UGC': 'C', 'CGC': 'R', 'AGC': 'S', 'GGC': 'G',\n",
    "'UGA': 'Stop', 'CGA': 'R', 'AGA': 'R', 'GGA': 'G',\n",
    "'UGG': 'W', 'CGG': 'R', 'AGG': 'R', 'GGG': 'G'\n",
    "}\n",
    "\n",
    "f = open(\"prot.txt\", 'r')\n",
    "content = f.read()\n",
    "str = \"\"\n",
    "while content:\n",
    "    cod = content[:3]\n",
    "    if(codontable.get(cod)) == \"Stop\":\n",
    "        break\n",
    "    str += codontable.get(cod)\n",
    "    content = content[3:]\n",
    "\n",
    "print(str)"
   ]
  },
  {
   "cell_type": "markdown",
   "id": "7e537e43",
   "metadata": {},
   "source": [
    "Problem 5: SUBS (finding motif in DNA)"
   ]
  },
  {
   "cell_type": "code",
   "execution_count": null,
   "id": "cd78e1ee",
   "metadata": {},
   "outputs": [],
   "source": [
    "#recursive solution: reached recursion error with this solution\n",
    "\n",
    "# def findt(s, r, spos=0):\n",
    "    # if len(s) < len(r):\n",
    "        # return []\n",
    "    # if s[:len(r)] == r:\n",
    "        # return [spos + 1] + findt(s[1:], r, spos + 1)\n",
    "    # else:\n",
    "        # return findt(s[1:], r, spos + 1)\n",
    "\n",
    "# f = open(\"motif.txt\", 'r')\n",
    "# cont = f.read()\n",
    "# s = content[:cont.index('\\n')]\n",
    "# r = content[cont.index('\\n')+ 1 :]\n",
    "\n",
    "# print(findt(s,r))"
   ]
  },
  {
   "cell_type": "code",
   "execution_count": 60,
   "id": "26e7e757",
   "metadata": {},
   "outputs": [
    {
     "name": "stdout",
     "output_type": "stream",
     "text": [
      "1\n",
      "19\n",
      "26\n",
      "33\n",
      "40\n",
      "56\n",
      "63\n",
      "71\n",
      "78\n",
      "103\n",
      "125\n",
      "157\n",
      "164\n",
      "194\n",
      "212\n",
      "219\n",
      "226\n",
      "267\n",
      "303\n",
      "310\n",
      "328\n",
      "380\n",
      "421\n",
      "459\n",
      "467\n",
      "474\n",
      "499\n",
      "518\n",
      "542\n",
      "576\n",
      "583\n",
      "676\n",
      "684\n",
      "711\n",
      "760\n",
      "802\n",
      "809\n",
      "None\n"
     ]
    }
   ],
   "source": [
    "def findt(s, r):\n",
    "    for position in range(len(s)):\n",
    "        if s[position:].startswith(r):\n",
    "            print(position+1)\n",
    "\n",
    "f = open(\"motif.txt\", 'r')\n",
    "cont = f.read()\n",
    "s = cont[:cont.index('\\n')]\n",
    "r = cont[cont.index('\\n')+ 1 :]\n",
    "\n",
    "print(findt(s,r))"
   ]
  }
 ],
 "metadata": {
  "language_info": {
   "name": "python"
  }
 },
 "nbformat": 4,
 "nbformat_minor": 5
}
