{
 "cells": [
  {
   "cell_type": "markdown",
   "id": "b8291123",
   "metadata": {},
   "source": [
    "Problem 1: LIA (mendel)"
   ]
  },
  {
   "cell_type": "code",
   "execution_count": null,
   "id": "d636423b",
   "metadata": {},
   "outputs": [
    {
     "name": "stdout",
     "output_type": "stream",
     "text": [
      "0.5675291577424664\n"
     ]
    }
   ],
   "source": [
    "import math\n",
    "\n",
    "k = 5\n",
    "n = 8\n",
    "\n",
    "\n",
    "total = 2**k\n",
    "prob = 0\n",
    "while n <= total:\n",
    "    #find probability of that n being heterozygous-- 1/4 by msl * totalCn\n",
    "    temp = .25**n * .75 **(total-n) * (math.comb(total,n))\n",
    "    #add probability to total\n",
    "    prob += temp\n",
    "    n = n+1\n",
    "\n",
    "print(prob)"
   ]
  },
  {
   "cell_type": "markdown",
   "id": "df1ade1f",
   "metadata": {},
   "source": [
    "Problem 2: MPRT (protein motif)"
   ]
  },
  {
   "cell_type": "code",
   "execution_count": 25,
   "id": "aea75b54",
   "metadata": {},
   "outputs": [
    {
     "name": "stdout",
     "output_type": "stream",
     "text": [
      "['Q0TMT1', 'MKSYIAKAQEVERKWYVVDAAGKPLGRVASQVASILRGKNKPTFTPNVDCGDFVIVINAEKVVLTGKKLDQKMLRKHSLYAGGLKETPYREVLEKKPEFAFEEAVRRMLPTGVLGRKMLKKLNVYRGAEHDHAAQKPEVLELRY', 'P10761_ZP3_MOUSE', 'MASSYFLFLCLLLCGGPELCNSQTLWLLPGGTPTPVGSSSPVKVECLEAELVVTVSRDLFGTGKLVQPGDLTLGSEGCQPRVSVDTDVVRFNAQLHECSSRVQMTKDALVYSTFLLHDPRPVSGLSILRTNRVEVPIECRYPRQGNVSSHPIQPTWVPFRATVSSEEKLAFSLRLMEENWNTEKSAPTFHLGEVAHLQAEVQTGSHLPLQLFVDHCVATPSPLPDPNSSPYHFIVDFHGCLVDGLSESFSAFQVPRPRPETLQFTVDVFHFANSSRNTLYITCHLKVAPANQIPDKLNKACSFNKTSQSWLPVEGDADICDCCSHGNCSNSSSSQFQIHGPRQWSKLVSRNRRHVTDEADVTVGPLIFLGKANDQTVEGWTASAQTSVALGLGLATVAFLTLAAIVLAVTRKCHSSSYLVSLPQ', 'O82484', 'MGSCISLQISCDQVLTRAYSCFFSLGNYIHKLKDNIVALEKAIEDLTATRDDVLRRVQMEEGKGLERLQQVQVWLKRVEIIRNQFYDLLSARNIEIQRLCFYSNCSTNLSSSYTYGQRVFLMIKEVENLNSNGFFEIVAAPAPKLEMRPIQPTIMGRETIFQRAWNRLMDDGVGTMGLYGMGGVGKTTLLTQIHNTLHDTKNGVDIVIWVVVSSDLQIHKIQEDIGEKLGFIGKEWNKKQESQKAVDILNCLSKKRFVLLLDDIWKKVDLTKIGIPSQTRENKCKVVFTTRSLDVCARMGVHDPMEVQCLSTNDAWELFQEKVGQISLGSHPDILELAKKVAGKCRGLPLALNVIGETMAGKRAVQEWHHAVDVLTSYAAEFSGMDDHILLILKYSYDNLNDKHVRSCFQYCALYPEDYSIKKYRLIDYWICEGFIDGNIGKERAVNQGYEILGTLVRACLLSEEGKNKLEVKMHDVVREMALWTLSDLGKNKERCIVQAGSGLRKVPKVEDWGAVRRLSLMNNGIEEISGSPECPELTTLFLQENKSLVHISGEFFRHMRKLVVLDLSENHQLDGLPEQISELVALRYLDLSHTNIEGLPACLQDLKTLIHLNLECMRRLGSIAGISKLSSLRTLGLRNSNIMLDVMSVKELHLLEHLEILTIDIVSTMVLEQMIDAGTLMNCMQEVSIRCLIYDQEQDTKLRLPTMDSLRSLTMWNCEISEIEIERLTWNTNPTSPCFFNLSQVIIHVCSSLKDLTWLLFAPNITYLMIEQLEQLQELISHAKATGVTEEEQQQLHKIIPFQKLQILHLSSLPELKSIYWISLSFPCLSGIYVERCPKLRKLPLDSKTGTVGKKFVLQYKETEWIESVEWKDEATKLHFLPSTKLVYILS', 'P01190_COLI_BOVIN', 'MPRLCSSRSGALLLALLLQASMEVRGWCLESSQCQDLTTESNLLACIRACKPDLSAETPVFPGNGDEQPLTENPRKYVMGHFRWDRFGRRNGSSSSGVGGAAQKREEEVAVGEGPGPRGDDAETGPREDKRSYSMEHFRWGKPVGKKRRPVKVYPNGAEDESAQAFPLEFKRELTGERLEQARGPEAQAESAAARAELEYGLVAEAEAEAAEKKDSGPYKMEHFRWGSPPKDKRYGGFMTSEKSQTPLVTLFKNAIIKNAHKKGQ', 'B0RU89', 'MEDLMTSYSFTEKKRIRKDFGKQRSILEVPFLLAIQVDSYREFLQEDVEPNKRKDLGLHAALKSVFPISSYSGNAALEYVGYKLGEPVFDERECRQRGMSYGAPLRVTVRLVIYDRESSTKAIKYVKEQEVYLGEIPLMTENGTFIVNGTERVIVSQLHRSPGVFFDHDRGKTHSSGKLLYSARIIPYRGSWLDFEFDPKDALFTRIDRRRKLPVSILLRALGYNNEEMLAEFFEINTFHINPDEGVQLELVPERLRGETLNFDLADGDKVIVEAGKRITARHVKQLEAAGVAALAVPDDYLVGRILSHDVVDGSTGELLANANDEISEDQLAAFRKAGVDAVGTLWVNDLDRGPYLSNTLRIDPTKTQLEALVEIYRMMRPGEPPTKEAAQNLFHNLFFTFERYDLSTVGRMKFNRRVGRKEVLGESVLYDKKYFAERNDEESKRLVAEHADTSDILEVIKVLTEIRNGRGVVDDIDHLGNRRVRSVGEMAENVFRVGLVRVERAVKERLSMAESEGLTPQELINAKPVAAAIKEFFGSSQLSQFMDQNNPLSEVTHKRRVSALGPGGLTRERAGFEVRDVHPTHYGRVCTIETPEGPNIGLINSLAVFARTNQYGFLETPYRKVLDGKVSDDVEYLSAIEENEYVIAQANALTDAKNMLTEQFVPCRFQGESLLKPPAEVHFMDVSPMQTVSVAAALVPFLEHDDANRALMGANMQRQAVPTLRSQKPLVGTGIERAVARDSGVTVNARRGGVIEQIDAARIVVKVNEAEIGGGTDAGVDIYNLIKYTRSNQNTCINQRPLVNVGDVIARGDVLADGPSTDIGELALGQNMLIAFMPWNGYNFEDSILLSERVVEEDRYTTIHIEELTCVARDTKLGPEEISADIPNVSEQALNRLDESGVVYIGAEVRAGDIMVGKVTPKGESQLTPEEKLLRAIFGEKASDVKDSSLRVPPGMDGTVIDVQVFTRDGIEKDKRARQIEESEIKRVKKDFDDQFRILEAAIYARLRSQIVGKVANGGPNLKKGDNVTDAYLDGLKKSDWFQLRMKDDDAADAIERAQKQIQAHEKEFEARFADKRGKITQGDDLAPGVLKMVKVFLAVKRRIQPGDKMAGRHGNKGVVSNVVPVEDMPYMATGEPVDIVLNPLGVPSRMNIGQILEVHLGWAAKGLGRKIQRMLEAQTAVSELRKFLDDIYNHDSAINAERVDLSQFSDEELLNLGKNLIDGVPMATPVFDGASEAEIKRMLELAELPQSGQTQLYDGRTGEAFDRKTTVGYMHYLKLNHLVDDKMHARSTGPYSLVTQQPLGGKAQFGGQRFGEMEVWALEAYGAAYTLQEMLTVKSDDVQGRNQMYKNIVDGEHEMVAGMPESFNVLVKEIRSLAINMELEE', 'P12630_BAR1_YEAST', 'MSAINHLCLKLILASFAIINTITALTNDGTGHLEFLLQHEEEMYYATTLDIGTPSQSLTVLFDTGSADFWVMDSSNPFCLPNSNTSSYSNATYNGEEVKPSIDCRSMSTYNEHRSSTYQYLENGRFYITYADGTFADGSWGTETVSINGIDIPNIQFGVAKYATTPVSGVLGIGFPRRESVKGYEGAPNEYYPNFPQILKSEKIIDVVAYSLFLNSPDSGTGSIVFGAIDESKFSGDLFTFPMVNEYPTIVDAPATLAMTIQGLGAQNKSSCEHETFTTTKYPVLLDSGTSLLNAPKVIADKMASFVNASYSEEEGIYILDCPVSVGDVEYNFDFGDLQISVPLSSLILSPETEGSYCGFAVQPTNDSMVLGDVFLSSAYVVFDLDNYKISLAQANWNASEVSKKLVNIQTDGSISGAKIATAEPWSTNEPFTVTSDIYSSTGCKSRPFLQSSTASSLIAETNVQSRNCSTKMPGTRSTTVLSKPTQNSAMHQSTGAVTQTSNETKLELSSTMANSGSVSLPTSNSIDKEFEHSKSQTTSDPSVAEHSTFNQTFVHETKYRPTHKTVITETVTKYSTVLINVCKPTY', 'P07204_TRBM_HUMAN', 'MLGVLVLGALALAGLGFPAPAEPQPGGSQCVEHDCFALYPGPATFLNASQICDGLRGHLMTVRSSVAADVISLLLNGDGGVGRRRLWIGLQLPPGCGDPKRLGPLRGFQWVTGDNNTSYSRWARLDLNGAPLCGPLCVAVSAAEATVPSEPIWEEQQCEVKADGFLCEFHFPATCRPLAVEPGAAAAAVSITYGTPFAARGADFQALPVGSSAAVAPLGLQLMCTAPPGAVQGHWAREAPGAWDCSVENGGCEHACNAIPGAPRCQCPAGAALQADGRSCTASATQSCNDLCEHFCVPNPDQPGSYSCMCETGYRLAADQHRCEDVDDCILEPSPCPQRCVNTQGGFECHCYPNYDLVDGECVEPVDPCFRANCEYQCQPLNQTSYLCVCAEGFAPIPHEPHRCQMFCNQTACPADCDPNTQASCECPEGYILDDGFICTDIDECENGGFCSGVCHNLPGTFECICGPDSALARHIGTDCDSGKVDGGDSGSGEPPPSPTPGSTLTPPAVGLVHSGLLIGISIASLCLVVALLALLCHLRKKQGAARAKMEYKCAAPSKEVVLQHVRTERTPQRL', 'P13838_LEUK_RAT', 'WAQVVSQENLPNTMTMLPFTPNSESPSTSEALSTYSSIATVPVTEDPKESISPWGQTTAPASSIPLGTPELSSFFFTSAGASGNTPVPELTTSQEVSTEASLVLFPKSSGVASDPPVTITNPATSSAVASTSLETFKGTSAPPVTVTSSTMTSGPFVATTVSSETSGPPVTMATGSLGPSKETHGLSATIATSSGESSSVAGGTPVFSTKISTTSTPNPITTVPPRPGSSGMLLVSMLIALTVVLVLVALLLLWRQRQKRRTGALTLSRGGKRNGTVDAWAGPARVPDEEATTASGSGGNKSSGAPETDGSGQRPTLTTFFSRRKSRQGSVALEELKPGTGPNLKGEEEPLVGSEDEAVETPTSDGPQAKDGAAPQSL', 'A6UDH9', 'MASGDELKRRLTILGSTGSIGTSTLDVIERLGGRDRFEVAALTGNGNIPLLAAQARRMGAELAVTADGDRYGELKDALSGSGIEVAAGRTGLSEAAERDAGWVMAAIVGNAGLGPTLAAARRGADIALANKECLVSAGSLFIDAVAEGGGRLLPVDSEHNAIFQVLENDQRHAVERIVLTASGGPFRTKSLDEMQHVTAEAARAHPNWSMGLKISIDSASMFNKALEMIEARHLFNLRPDQIEVIVHPQSVVHSMVGYADGSVLAQLGCPDMRTAIGYALSYPRRCDLPVERLDFARLARLDFEAPDEVRFPALRLARRAMEEGGLQGAVLNGAKETALGAFIEGRVGFLDMAEIVEEVMNDLAGLPAATSMDDVFAADEQARQAAAGMIP', 'Q90304_C166_CARAU', 'MQSVVCLIGAFIAAAVFRPGSCVGTVIGLYGETIVVPCNDGTKKPDGLIFTKWKYVKDDGSPGDLLVKQAQKDEATVSATDGYKSRVSIAANSSLLIARGSLADQRVFTCMVVSFTNLEEYSVEVKVHKKPSAPVIKNNAKELENGKLTQLGECVVENANPPADLIWKKNNQTLVDDGKTIIITSTITKDKITGLSSTSSRLQYTARKEDVESQFTCTAKHVMGPDQVSEPESFPIHYPTEKVSLQVVSQSPIREGEDVTLKCQADGNPPPTSFNFNIKGKKVTVTDKDVYTLTGVTRADSGIYKCSLLDNDVMESTQFVTVSFLDVSLTPTGKVLKNVGENLIVSLDKNASSEAKVTWTKDNRKLDKLPDFSKLTYSDAGLYVCDVSIEGIKRSLSFELTVEGIPKITSLTKHRSSDGKHKVLTCEAEGSPKPDVQWSVNGTNDEVSYNNGKATYKLTVVPSKNLTVSCLVTNKLGEDTKEISVFSQKNEDGTEQAKVIVGIVVGLLVAAALVGLIYWIYIKKTRQGSWKTGEKEAGTSEESKKLEENNHKPDV', 'P01008_ANT3_HUMAN', 'MYSNVIGTVTSGKRKVYLLSLLLIGFWDCVTCHGSPVDICTAKPRDIPMNPMCIYRSPEKKATEDEGSEQKIPEATNRRVWELSKANSRFATTFYQHLADSKNDNDNIFLSPLSISTAFAMTKLGACNDTLQQLMEVFKFDTISEKTSDQIHFFFAKLNCRLYRKANKSSKLVSANRLFGDKSLTFNETYQDISELVYGAKLQPLDFKENAEQSRAAINKWVSNKTEGRITDVIPSEAINELTVLVLVNTIYFKGLWKSKFSPENTRKELFYKADGESCSASMMYQEGKFRYRRVAEGTQVLELPFKGDDITMVLILPKPEKSLAKVEKELTPEVLQEWLDELEEMMLVVHMPRFRIEDGFSLKEQLQDMGLVDLFSPEKSKLPGIVAEGRDDLYVSDAFHKAFLEVNEEGSEAAASTAVVIAGRSLNPNRVTFKANRPFLVFIREVPLNTIIFMGRVANPCVK', 'P98119_URT1_DESRO', 'MVNTMKTKLLCVLLLCGAVFSLPRQETYRQLARGSRAYGVACKDEITQMTYRRQESWLRPEVRSKRVEHCQCDRGQARCHTVPVNSCSEPRCFNGGTCWQAVYFSDFVCQCPAGYTGKRCEVDTRATCYEGQGVTYRGTWSTAESRVECINWNSSLLTRRTYNGRMPDAFNLGLGNHNYCRNPNGAPKPWCYVIKAGKFTSESCSVPVCSKATCGLRKYKEPQLHSTGGLFTDITSHPWQAAIFAQNRRSSGERFLCGGILISSCWVLTAAHCFQESYLPDQLKVVLGRTYRVKPGEEEQTFKVKKYIVHKEFDDDTYNNDIALLQLKSDSPQCAQESDSVRAICLPEANLQLPDWTECELSGYGKHKSSSPFYSEQLKEGHVRLYPSSRCAPKFLFNKTVTNNMLCAGDTRSGEIYPNVHDACQGDSGGPLVCMNDNHMTLLGIISWGVGCGEKDVPGVYTKVTNYLGWIRDNMHL', 'Q7S432', 'MSYYDIDAILTDAEKIPCTFQIDVPDLGYLDNQPGHTLKSGSRVALPIWLAEMLAIANTGAVDMDDPSQSSKSFITFDLPPALGNDVVQALKADPRSVPLRDQSAHFYALATHMMELSEEPELSAVLRKTFVSRAAEIALHARKVGGGGSSYHGRDGGGAGGKGKGKATKDDNASNLGVGGAGEDFLRGLDEWERKLFRSAHDGTKASKEWMENVKKR']\n"
     ]
    }
   ],
   "source": [
    "#stuff to import fasta data\n",
    "text = open('mprt.txt','r')\n",
    "text= text.read().split(\"XX\")\n",
    "text = [entry.replace('\\n', '') for entry in text if entry]\n",
    "print(text)\n"
   ]
  },
  {
   "cell_type": "code",
   "execution_count": 26,
   "id": "542a7209",
   "metadata": {},
   "outputs": [
    {
     "name": "stdout",
     "output_type": "stream",
     "text": [
      "Q0TMT1 \n",
      "\n",
      "P10761_ZP3_MOUSE \n",
      " 146 273 304 327 330\n",
      "O82484 \n",
      " 104 108 546 742 765\n",
      "P01190_COLI_BOVIN \n",
      " 91\n",
      "B0RU89 \n",
      " 142 148 889 1028\n",
      "P12630_BAR1_YEAST \n",
      " 84 90 268 308 366 398 468 503 551\n",
      "P07204_TRBM_HUMAN \n",
      " 47 115 116 382 409\n",
      "P13838_LEUK_RAT \n",
      " 274 300\n",
      "A6UDH9 \n",
      " 207\n",
      "Q90304_C166_CARAU \n",
      " 92 171 350 441 465\n",
      "P01008_ANT3_HUMAN \n",
      " 128 167 187 224\n",
      "P98119_URT1_DESRO \n",
      " 153 398\n",
      "Q7S432 \n",
      " 173\n"
     ]
    }
   ],
   "source": [
    "def finder(text, ID):\n",
    "    locations = []\n",
    "    for i in range (len(text) - 3):\n",
    "        if(text[i]=='N' and text[i+1]!='P' and (text[i+2]== 'S' or text[i+2] == 'T') and text[i+3]!='P'):\n",
    "            locations.append(i+1)\n",
    "    print(ID, '\\n', *locations)\n",
    "\n",
    "for i in range(0,len(text)-1, 2):\n",
    "    finder(text[i+1], text[i])"
   ]
  },
  {
   "cell_type": "markdown",
   "id": "ca73371b",
   "metadata": {},
   "source": [
    "Problem 3: MRNA (mRNA from Protein)"
   ]
  },
  {
   "cell_type": "code",
   "execution_count": 30,
   "id": "b13f1308",
   "metadata": {},
   "outputs": [
    {
     "name": "stdout",
     "output_type": "stream",
     "text": [
      "775872\n"
     ]
    }
   ],
   "source": [
    "codon_counts = {\n",
    "    'F': 2, 'L': 6, 'S': 6, 'Y': 2, 'C': 2, 'W': 1,\n",
    "    'P': 4, 'H': 2, 'Q': 2, 'R': 6, 'I': 3, 'M': 1,\n",
    "    'T': 4, 'N': 2, 'K': 2, 'V': 4, 'A': 4, 'D': 2,\n",
    "    'E': 2, 'G': 4\n",
    "}\n",
    "\n",
    "t = open('codon.txt', 'r')\n",
    "t = t.read()\n",
    "t = t.replace('\\n', '')\n",
    "\n",
    "total = 1\n",
    "for ch in t:\n",
    "    total *= codon_counts[ch]\n",
    "\n",
    "print((total * 3) % 1000000)\n"
   ]
  },
  {
   "cell_type": "markdown",
   "id": "5ec237db",
   "metadata": {},
   "source": [
    "Problem 4: ORF (open reading frames)"
   ]
  },
  {
   "cell_type": "code",
   "execution_count": 31,
   "id": "1745b1de",
   "metadata": {},
   "outputs": [],
   "source": [
    "codontab = { #https://gist.github.com/juanfal/09d7fb53bd367742127e17284b9c47bf thx juan love u\n",
    "    'TCA': 'S',    # Serina\n",
    "    'TCC': 'S',    # Serina\n",
    "    'TCG': 'S',    # Serina\n",
    "    'TCT': 'S',    # Serina\n",
    "    'TTC': 'F',    # Fenilalanina\n",
    "    'TTT': 'F',    # Fenilalanina\n",
    "    'TTA': 'L',    # Leucina\n",
    "    'TTG': 'L',    # Leucina\n",
    "    'TAC': 'Y',    # Tirosina\n",
    "    'TAT': 'Y',    # Tirosina\n",
    "    'TAA': '*',    # Stop\n",
    "    'TAG': '*',    # Stop\n",
    "    'TGC': 'C',    # Cisteina\n",
    "    'TGT': 'C',    # Cisteina\n",
    "    'TGA': '*',    # Stop\n",
    "    'TGG': 'W',    # Triptofano\n",
    "    'CTA': 'L',    # Leucina\n",
    "    'CTC': 'L',    # Leucina\n",
    "    'CTG': 'L',    # Leucina\n",
    "    'CTT': 'L',    # Leucina\n",
    "    'CCA': 'P',    # Prolina\n",
    "    'CCC': 'P',    # Prolina\n",
    "    'CCG': 'P',    # Prolina\n",
    "    'CCT': 'P',    # Prolina\n",
    "    'CAC': 'H',    # Histidina\n",
    "    'CAT': 'H',    # Histidina\n",
    "    'CAA': 'Q',    # Glutamina\n",
    "    'CAG': 'Q',    # Glutamina\n",
    "    'CGA': 'R',    # Arginina\n",
    "    'CGC': 'R',    # Arginina\n",
    "    'CGG': 'R',    # Arginina\n",
    "    'CGT': 'R',    # Arginina\n",
    "    'ATA': 'I',    # Isoleucina\n",
    "    'ATC': 'I',    # Isoleucina\n",
    "    'ATT': 'I',    # Isoleucina\n",
    "    'ATG': 'M',    # Methionina\n",
    "    'ACA': 'T',    # Treonina\n",
    "    'ACC': 'T',    # Treonina\n",
    "    'ACG': 'T',    # Treonina\n",
    "    'ACT': 'T',    # Treonina\n",
    "    'AAC': 'N',    # Asparagina\n",
    "    'AAT': 'N',    # Asparagina\n",
    "    'AAA': 'K',    # Lisina\n",
    "    'AAG': 'K',    # Lisina\n",
    "    'AGC': 'S',    # Serina\n",
    "    'AGT': 'S',    # Serina\n",
    "    'AGA': 'R',    # Arginina\n",
    "    'AGG': 'R',    # Arginina\n",
    "    'GTA': 'V',    # Valina\n",
    "    'GTC': 'V',    # Valina\n",
    "    'GTG': 'V',    # Valina\n",
    "    'GTT': 'V',    # Valina\n",
    "    'GCA': 'A',    # Alanina\n",
    "    'GCC': 'A',    # Alanina\n",
    "    'GCG': 'A',    # Alanina\n",
    "    'GCT': 'A',    # Alanina\n",
    "    'GAC': 'D',    # Acido Aspartico\n",
    "    'GAT': 'D',    # Acido Aspartico\n",
    "    'GAA': 'E',    # Acido Glutamico\n",
    "    'GAG': 'E',    # Acido Glutamico\n",
    "    'GGA': 'G',    # Glicina\n",
    "    'GGC': 'G',    # Glicina\n",
    "    'GGG': 'G',    # Glicina\n",
    "    'GGT': 'G'     # Glicina\n",
    "}\n",
    "\n",
    "\n",
    "reverse_tab = {\n",
    "    'T' : 'A',\n",
    "    'A' : 'T', \n",
    "    'C' : 'G',\n",
    "    'G' : 'C'\n",
    "}"
   ]
  },
  {
   "cell_type": "code",
   "execution_count": 73,
   "id": "6d54394a",
   "metadata": {},
   "outputs": [
    {
     "name": "stdout",
     "output_type": "stream",
     "text": [
      "M MGMTPRLGLESLLE MTPRLGLESLLE\n",
      "MLLGSFRLIPKETLIQVAGSSPCNLS M\n"
     ]
    }
   ],
   "source": [
    "#extract sequence from text, and save the original, original -1, and original -2 in a list\n",
    "o = open(\"str.txt\", 'r')\n",
    "o = o.read()\n",
    "o = o.replace('\\n', '')\n",
    "rev = \"\"\n",
    "for t in range(len(o)):\n",
    "    rev = reverse_tab[o[t]] + rev\n",
    "\n",
    "#define a function to find an ORF and transcribe from there\n",
    "def orf(seq):\n",
    "    each = []\n",
    "    i = 0\n",
    "    while(i<len(seq)-1):\n",
    "        while i <= (len(seq)-2):\n",
    "            if (seq[i:i+3] != 'ATG'):\n",
    "                i +=1\n",
    "            elif (seq[i:i+3] == 'ATG'):\n",
    "                new = i+1\n",
    "                break\n",
    "        ret = \"\"\n",
    "        while i <= (len(seq)-2):\n",
    "            temp = codontab[seq[i:i+3]]\n",
    "            if temp == '*':\n",
    "                each.append(ret)\n",
    "                i = new\n",
    "                break\n",
    "            else:\n",
    "                ret += temp\n",
    "                i += 3\n",
    "    print(*each)\n",
    "\n",
    "#call the function on the original 3 texts\n",
    "orf(o)\n",
    "orf(rev)"
   ]
  },
  {
   "cell_type": "code",
   "execution_count": null,
   "id": "2526f09c",
   "metadata": {},
   "outputs": [
    {
     "data": {
      "text/plain": [
       "['MLLGSFRLIPKETLIQVAGSSPCNLS', 'M']"
      ]
     },
     "execution_count": 71,
     "metadata": {},
     "output_type": "execute_result"
    }
   ],
   "source": [
    "\n",
    "\n",
    "#call the function on the complemented text\n",
    "orf(rev)\n"
   ]
  }
 ],
 "metadata": {
  "kernelspec": {
   "display_name": "bioenv",
   "language": "python",
   "name": "python3"
  },
  "language_info": {
   "codemirror_mode": {
    "name": "ipython",
    "version": 3
   },
   "file_extension": ".py",
   "mimetype": "text/x-python",
   "name": "python",
   "nbconvert_exporter": "python",
   "pygments_lexer": "ipython3",
   "version": "3.12.3"
  }
 },
 "nbformat": 4,
 "nbformat_minor": 5
}
